{
 "cells": [
  {
   "cell_type": "code",
   "execution_count": 1,
   "metadata": {
    "collapsed": true
   },
   "outputs": [],
   "source": [
    "from bs4 import BeautifulSoup\n",
    "import requests\n",
    "import csv\n",
    "import os"
   ]
  },
  {
   "cell_type": "code",
   "execution_count": 2,
   "metadata": {
    "collapsed": true
   },
   "outputs": [],
   "source": [
    "positions = {\n",
    "    'QB': 4,\n",
    "    'RB': 1,\n",
    "    'WR': 2,\n",
    "    'TE': 8,\n",
    "    'DST': 256,\n",
    "    'K': 16,\n",
    "    'DB': 32,\n",
    "    'DL': 64,\n",
    "    'LB': 128,\n",
    "}\n",
    "pages = {\n",
    "    'QB': 2,\n",
    "    'RB': 5,\n",
    "    'WR': 7,\n",
    "    'TE': 3,\n",
    "    'DST': 2,\n",
    "    'K': 2,\n",
    "    'DB': 7,\n",
    "    'DL': 7,\n",
    "    'LB': 7,\n",
    "}\n",
    "weeks = range(1, 22)"
   ]
  },
  {
   "cell_type": "code",
   "execution_count": 24,
   "metadata": {},
   "outputs": [],
   "source": [
    "def cbs(pos, week):\n",
    "    url = 'https://www.fleaflicker.com/nfl/leaders?week={week}&sortMode=2&statType=2&position={pos}&tableOffset={i}'.format(pos=positions[pos], week=week, i=\"{i}\")\n",
    "    try:\n",
    "        contents = requests.get(url.format(i=0)).content\n",
    "        soup = BeautifulSoup(contents, \"html.parser\")\n",
    "        header = [td.text.split(',')[0].replace(u'\\xa0', u'') for td in soup.find('thead').find_all('tr')[1]]\n",
    "        data = []\n",
    "        for i in range(pages[pos]):\n",
    "            contents = requests.get(url.format(i=20 * i)).content\n",
    "            soup = BeautifulSoup(contents, \"html.parser\")\n",
    "            rows = soup.find('table').find_all('tr')\n",
    "            data += [[td.text.split(',')[0].replace(u'\\xa0', u'').replace(u'•', u'') for td in row] for row in rows[2:-1]]\n",
    "    except AttributeError:\n",
    "        print(\"Failed: \" + pos + \" \" + str(week))\n",
    "        return\n",
    "    except IndexError:\n",
    "        print(\"Failed: \" + pos + \" \" + str(week))\n",
    "        return\n",
    "    filename = 'fleaflicker_{pos}_week{week}.csv'.format(pos=pos, week=week)\n",
    "    with open(filename, 'w') as f:\n",
    "        print('writing: ', filename)\n",
    "        writer = csv.writer(f)\n",
    "        try:\n",
    "            writer.writerow(header)\n",
    "            writer.writerows(data)\n",
    "        except UnicodeEncodeError:\n",
    "            print(\"Failed: \" + pos + \" \" + str(week))\n",
    "            print(header)\n",
    "            print(data)\n",
    "            return"
   ]
  },
  {
   "cell_type": "code",
   "execution_count": 22,
   "metadata": {},
   "outputs": [
    {
     "ename": "FileNotFoundError",
     "evalue": "[Errno 2] No such file or directory: 'fleaflicker'",
     "output_type": "error",
     "traceback": [
      "\u001b[0;31m---------------------------------------------------------------------------\u001b[0m",
      "\u001b[0;31mFileNotFoundError\u001b[0m                         Traceback (most recent call last)",
      "\u001b[0;32m<ipython-input-22-377cab2e14f0>\u001b[0m in \u001b[0;36m<module>\u001b[0;34m()\u001b[0m\n\u001b[0;32m----> 1\u001b[0;31m \u001b[0mos\u001b[0m\u001b[0;34m.\u001b[0m\u001b[0mchdir\u001b[0m\u001b[0;34m(\u001b[0m\u001b[0;34m'fleaflicker'\u001b[0m\u001b[0;34m)\u001b[0m\u001b[0;34m\u001b[0m\u001b[0m\n\u001b[0m",
      "\u001b[0;31mFileNotFoundError\u001b[0m: [Errno 2] No such file or directory: 'fleaflicker'"
     ]
    }
   ],
   "source": [
    "os.chdir('fleaflicker')"
   ]
  },
  {
   "cell_type": "code",
   "execution_count": 26,
   "metadata": {},
   "outputs": [
    {
     "name": "stdout",
     "output_type": "stream",
     "text": [
      "writing:  fleaflicker_QB_week18.csv\n",
      "writing:  fleaflicker_RB_week18.csv\n",
      "writing:  fleaflicker_WR_week18.csv\n",
      "writing:  fleaflicker_TE_week18.csv\n",
      "writing:  fleaflicker_DST_week18.csv\n",
      "writing:  fleaflicker_K_week18.csv\n",
      "writing:  fleaflicker_DB_week18.csv\n",
      "writing:  fleaflicker_DL_week18.csv\n",
      "writing:  fleaflicker_LB_week18.csv\n"
     ]
    },
    {
     "data": {
      "text/plain": [
       "[None, None, None, None, None, None, None, None, None]"
      ]
     },
     "execution_count": 26,
     "metadata": {},
     "output_type": "execute_result"
    }
   ],
   "source": [
    "[cbs(pos, week) for pos in positions for week in weeks]"
   ]
  },
  {
   "cell_type": "code",
   "execution_count": 27,
   "metadata": {
    "collapsed": true
   },
   "outputs": [],
   "source": [
    "os.chdir('..')"
   ]
  },
  {
   "cell_type": "code",
   "execution_count": null,
   "metadata": {
    "collapsed": true
   },
   "outputs": [],
   "source": []
  }
 ],
 "metadata": {
  "kernelspec": {
   "display_name": "Python 3",
   "language": "python",
   "name": "python3"
  },
  "language_info": {
   "codemirror_mode": {
    "name": "ipython",
    "version": 3
   },
   "file_extension": ".py",
   "mimetype": "text/x-python",
   "name": "python",
   "nbconvert_exporter": "python",
   "pygments_lexer": "ipython3",
   "version": "3.6.4"
  }
 },
 "nbformat": 4,
 "nbformat_minor": 2
}
