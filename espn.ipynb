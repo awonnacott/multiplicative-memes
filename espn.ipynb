{
 "cells": [
  {
   "cell_type": "code",
   "execution_count": null,
   "metadata": {
    "collapsed": true
   },
   "outputs": [],
   "source": [
    "from bs4 import BeautifulSoup\n",
    "import requests\n",
    "import csv\n",
    "import os"
   ]
  },
  {
   "cell_type": "code",
   "execution_count": null,
   "metadata": {
    "collapsed": true
   },
   "outputs": [],
   "source": [
    "positions = {\n",
    "    'QB': 0,\n",
    "    'RB': 2,\n",
    "    'WR': 4,\n",
    "    'TE': 6,\n",
    "    'DST': 16,\n",
    "    'K': 17,\n",
    "}\n",
    "pages = {\n",
    "    'QB': 4,\n",
    "    'RB': 8,\n",
    "    'WR': 10,\n",
    "    'TE': 6,\n",
    "    'DST': 1,\n",
    "    'K': 2,\n",
    "}\n",
    "weeks = range(1, 22)"
   ]
  },
  {
   "cell_type": "code",
   "execution_count": null,
   "metadata": {
    "collapsed": true
   },
   "outputs": [],
   "source": [
    "def cbs(pos, week):\n",
    "    url = 'https://games.espn.com/ffl/tools/projections?&scoringPeriodId={week}&seasonId=2017&slotCategoryId={pos}&startIndex={i}'.format(pos=positions[pos], week=week, i=\"{i}\")\n",
    "    try:\n",
    "        contents = requests.get(url.format(i=0)).content\n",
    "        soup = BeautifulSoup(contents, \"html.parser\")\n",
    "        rows = soup.find('table').find_all('tr')\n",
    "        header = [td.text.split(',')[0].replace(u'\\xa0', u'') for td in rows[2]]\n",
    "        data = []\n",
    "        for i in range(pages[pos]):\n",
    "            contents = requests.get(url.format(i=40*i)).content\n",
    "            soup = BeautifulSoup(contents, \"html.parser\")\n",
    "            rows = soup.find('table').find_all('tr')\n",
    "            data += [[td.text.split(',')[0].split('D/ST')[0] for td in row] for row in rows[3:]]\n",
    "    except AttributeError:\n",
    "        print(\"Failed: \" + pos + \" \" + str(week))\n",
    "        return\n",
    "    filename = 'espn_{pos}_week{week}.csv'.format(pos=pos, week=week)\n",
    "    with open(filename, 'w') as f:\n",
    "        print('writing: ', filename)\n",
    "        writer = csv.writer(f)\n",
    "        try:\n",
    "            writer.writerow(header)\n",
    "            writer.writerows(data)\n",
    "        except UnicodeEncodeError:\n",
    "            print(\"Failed: \" + pos + \" \" + str(week))\n",
    "            print(header)\n",
    "            print(data)\n",
    "            return"
   ]
  },
  {
   "cell_type": "code",
   "execution_count": null,
   "metadata": {
    "collapsed": true
   },
   "outputs": [],
   "source": [
    "os.chdir('espn')"
   ]
  },
  {
   "cell_type": "code",
   "execution_count": null,
   "metadata": {},
   "outputs": [],
   "source": [
    "[cbs(pos, week) for pos in positions for week in weeks]"
   ]
  },
  {
   "cell_type": "code",
   "execution_count": null,
   "metadata": {
    "collapsed": true
   },
   "outputs": [],
   "source": [
    "os.chdir('..')"
   ]
  },
  {
   "cell_type": "code",
   "execution_count": null,
   "metadata": {
    "collapsed": true
   },
   "outputs": [],
   "source": []
  }
 ],
 "metadata": {
  "kernelspec": {
   "display_name": "Python 3",
   "language": "python",
   "name": "python3"
  },
  "language_info": {
   "codemirror_mode": {
    "name": "ipython",
    "version": 3
   },
   "file_extension": ".py",
   "mimetype": "text/x-python",
   "name": "python",
   "nbconvert_exporter": "python",
   "pygments_lexer": "ipython3",
   "version": "3.6.4"
  }
 },
 "nbformat": 4,
 "nbformat_minor": 2
}
