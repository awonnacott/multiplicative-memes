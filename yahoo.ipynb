{
 "cells": [
  {
   "cell_type": "code",
   "execution_count": 1,
   "metadata": {},
   "outputs": [],
   "source": [
    "from bs4 import BeautifulSoup\n",
    "import requests\n",
    "import csv\n",
    "import time\n",
    "import os\n",
    "from selenium import webdriver\n",
    "from selenium.webdriver.common.keys import Keys"
   ]
  },
  {
   "cell_type": "code",
   "execution_count": 2,
   "metadata": {},
   "outputs": [],
   "source": [
    "pages = {\n",
    "    'QB': 5,\n",
    "    'RB': 11,\n",
    "    'WR': 16,\n",
    "    'TE': 10,\n",
    "}\n",
    "weeks = range(1, 18)"
   ]
  },
  {
   "cell_type": "code",
   "execution_count": 59,
   "metadata": {},
   "outputs": [],
   "source": [
    "def cbs(pos, week):\n",
    "    url = 'https://football.fantasysports.yahoo.com/f1/731507/players?&sort=AR&sdir=1&status=ALL&pos={pos}&stat1=S_PW_{week}&jsenabled=1&count={i}'.format(pos=pos, week=week, i=\"{i}\")\n",
    "    try:\n",
    "        driver.get(url.format(i=0))\n",
    "        time.sleep(3)\n",
    "        elem = driver.find_element_by_class_name(\"Table\")\n",
    "        soup = BeautifulSoup(elem.get_attribute(\"innerHTML\"), \"html.parser\")\n",
    "        pheader = soup.find('thead').find_all('tr')[1].find_all('th')\n",
    "        header = [th.text.strip(u'\\ue002') for th in pheader]\n",
    "        header = ['FN', 'LN'] + header[3:-1]\n",
    "        data = []\n",
    "        for i in range(pages[pos]):\n",
    "            driver.get(url.format(i=25 * i))\n",
    "            time.sleep(3)\n",
    "            elem = driver.find_element_by_class_name(\"Table\")\n",
    "            soup = BeautifulSoup(elem.get_attribute(\"innerHTML\"), \"html.parser\")\n",
    "            pdata = [[td.text for td in row.find_all('td')] for row in soup.find_all('tr') if len(row.find_all('td')) == len(pheader)]\n",
    "            data += [row[1].split('\\n')[2].split(' ')[:2] + row[3:-1] for row in pdata]\n",
    "    except AttributeError:\n",
    "        print(\"Failed: \" + pos + \" \" + str(week))\n",
    "        filename = 'yahoo_{pos}_week{week}.csv'.format(pos=pos, week=week)\n",
    "        return\n",
    "    filename = 'yahoo_{pos}_week{week}.csv'.format(pos=pos, week=week)\n",
    "    with open(filename, 'w') as f:\n",
    "        print('writing: ', filename)\n",
    "        writer = csv.writer(f)\n",
    "        try:\n",
    "        #header = [h.strip(u'\\ue002') for h in header]\n",
    "        #data = [d.strip(u'\\ue002') for ds in data for d in ds]\n",
    "            writer.writerow(header)\n",
    "            writer.writerows(data)\n",
    "        except UnicodeEncodeError:\n",
    "            print(\"Failed: \" + pos + \" \" + str(week))\n",
    "            print(header)\n",
    "            print(data)\n",
    "            return"
   ]
  },
  {
   "cell_type": "code",
   "execution_count": 41,
   "metadata": {},
   "outputs": [],
   "source": [
    "url = 'https://football.fantasysports.yahoo.com/f1/731507/players?status=A&pos=O&cut_type=9&stat1=S_PW_12&myteam=0&sort=AR&sdir=1&count=0'"
   ]
  },
  {
   "cell_type": "code",
   "execution_count": 42,
   "metadata": {},
   "outputs": [],
   "source": [
    "driver = webdriver.Firefox()\n",
    "driver.get(url)"
   ]
  },
  {
   "cell_type": "code",
   "execution_count": 43,
   "metadata": {},
   "outputs": [],
   "source": [
    "elem = driver.find_element_by_id(\"login-username\")\n",
    "elem.clear()\n",
    "elem.send_keys(\"weinky\")\n",
    "elem.send_keys(Keys.RETURN)\n",
    "time.sleep(2)\n",
    "# Manually enter the password in the password box and hit return\n",
    "# or fill the password in for \"\" here and run this cell\n",
    "elem = driver.find_element_by_id(\"login-passwd\")\n",
    "elem.clear()\n",
    "elem.send_keys(\"sinner2k\")\n",
    "elem.send_keys(Keys.RETURN)"
   ]
  },
  {
   "cell_type": "code",
   "execution_count": 16,
   "metadata": {},
   "outputs": [
    {
     "ename": "WindowsError",
     "evalue": "[Error 2] The system cannot find the file specified: 'yahoo'",
     "output_type": "error",
     "traceback": [
      "\u001b[1;31m---------------------------------------------------------------------------\u001b[0m",
      "\u001b[1;31mWindowsError\u001b[0m                              Traceback (most recent call last)",
      "\u001b[1;32m<ipython-input-16-1263c09a56d6>\u001b[0m in \u001b[0;36m<module>\u001b[1;34m()\u001b[0m\n\u001b[1;32m----> 1\u001b[1;33m \u001b[0mos\u001b[0m\u001b[1;33m.\u001b[0m\u001b[0mchdir\u001b[0m\u001b[1;33m(\u001b[0m\u001b[1;34m'yahoo'\u001b[0m\u001b[1;33m)\u001b[0m\u001b[1;33m\u001b[0m\u001b[0m\n\u001b[0m",
      "\u001b[1;31mWindowsError\u001b[0m: [Error 2] The system cannot find the file specified: 'yahoo'"
     ]
    }
   ],
   "source": [
    "os.chdir('yahoo')"
   ]
  },
  {
   "cell_type": "code",
   "execution_count": 60,
   "metadata": {},
   "outputs": [
    {
     "name": "stdout",
     "output_type": "stream",
     "text": [
      "('writing: ', 'yahoo_QB_week1.csv')\n",
      "('writing: ', 'yahoo_QB_week2.csv')\n",
      "('writing: ', 'yahoo_QB_week3.csv')\n",
      "('writing: ', 'yahoo_QB_week4.csv')\n",
      "('writing: ', 'yahoo_QB_week5.csv')\n",
      "('writing: ', 'yahoo_QB_week6.csv')\n",
      "('writing: ', 'yahoo_QB_week7.csv')\n",
      "('writing: ', 'yahoo_QB_week8.csv')\n",
      "('writing: ', 'yahoo_QB_week9.csv')\n",
      "('writing: ', 'yahoo_QB_week10.csv')\n",
      "('writing: ', 'yahoo_QB_week11.csv')\n",
      "('writing: ', 'yahoo_QB_week12.csv')\n",
      "('writing: ', 'yahoo_QB_week13.csv')\n",
      "('writing: ', 'yahoo_QB_week14.csv')\n",
      "('writing: ', 'yahoo_QB_week15.csv')\n",
      "('writing: ', 'yahoo_QB_week16.csv')\n",
      "('writing: ', 'yahoo_QB_week17.csv')\n",
      "('writing: ', 'yahoo_WR_week1.csv')\n",
      "('writing: ', 'yahoo_WR_week2.csv')\n",
      "('writing: ', 'yahoo_WR_week3.csv')\n",
      "('writing: ', 'yahoo_WR_week4.csv')\n",
      "('writing: ', 'yahoo_WR_week5.csv')\n",
      "('writing: ', 'yahoo_WR_week6.csv')\n",
      "('writing: ', 'yahoo_WR_week7.csv')\n",
      "('writing: ', 'yahoo_WR_week8.csv')\n",
      "('writing: ', 'yahoo_WR_week9.csv')\n",
      "('writing: ', 'yahoo_WR_week10.csv')\n",
      "('writing: ', 'yahoo_WR_week11.csv')\n",
      "('writing: ', 'yahoo_WR_week12.csv')\n",
      "('writing: ', 'yahoo_WR_week13.csv')\n",
      "('writing: ', 'yahoo_WR_week14.csv')\n",
      "('writing: ', 'yahoo_WR_week15.csv')\n",
      "('writing: ', 'yahoo_WR_week16.csv')\n",
      "('writing: ', 'yahoo_WR_week17.csv')\n",
      "('writing: ', 'yahoo_RB_week1.csv')\n",
      "('writing: ', 'yahoo_RB_week2.csv')\n",
      "('writing: ', 'yahoo_RB_week3.csv')\n",
      "('writing: ', 'yahoo_RB_week4.csv')\n",
      "('writing: ', 'yahoo_RB_week5.csv')\n",
      "('writing: ', 'yahoo_RB_week6.csv')\n",
      "('writing: ', 'yahoo_RB_week7.csv')\n",
      "('writing: ', 'yahoo_RB_week8.csv')\n",
      "('writing: ', 'yahoo_RB_week9.csv')\n",
      "('writing: ', 'yahoo_RB_week10.csv')\n",
      "('writing: ', 'yahoo_RB_week11.csv')\n",
      "('writing: ', 'yahoo_RB_week12.csv')\n",
      "('writing: ', 'yahoo_RB_week13.csv')\n",
      "('writing: ', 'yahoo_RB_week14.csv')\n",
      "('writing: ', 'yahoo_RB_week15.csv')\n",
      "('writing: ', 'yahoo_RB_week16.csv')\n",
      "('writing: ', 'yahoo_RB_week17.csv')\n",
      "('writing: ', 'yahoo_TE_week1.csv')\n",
      "('writing: ', 'yahoo_TE_week2.csv')\n",
      "('writing: ', 'yahoo_TE_week3.csv')\n",
      "('writing: ', 'yahoo_TE_week4.csv')\n",
      "('writing: ', 'yahoo_TE_week5.csv')\n",
      "('writing: ', 'yahoo_TE_week6.csv')\n",
      "('writing: ', 'yahoo_TE_week7.csv')\n",
      "('writing: ', 'yahoo_TE_week8.csv')\n",
      "('writing: ', 'yahoo_TE_week9.csv')\n",
      "('writing: ', 'yahoo_TE_week10.csv')\n",
      "('writing: ', 'yahoo_TE_week11.csv')\n",
      "('writing: ', 'yahoo_TE_week12.csv')\n",
      "('writing: ', 'yahoo_TE_week13.csv')\n",
      "('writing: ', 'yahoo_TE_week14.csv')\n",
      "('writing: ', 'yahoo_TE_week15.csv')\n",
      "('writing: ', 'yahoo_TE_week16.csv')\n",
      "('writing: ', 'yahoo_TE_week17.csv')\n"
     ]
    },
    {
     "data": {
      "text/plain": [
       "[None,\n",
       " None,\n",
       " None,\n",
       " None,\n",
       " None,\n",
       " None,\n",
       " None,\n",
       " None,\n",
       " None,\n",
       " None,\n",
       " None,\n",
       " None,\n",
       " None,\n",
       " None,\n",
       " None,\n",
       " None,\n",
       " None,\n",
       " None,\n",
       " None,\n",
       " None,\n",
       " None,\n",
       " None,\n",
       " None,\n",
       " None,\n",
       " None,\n",
       " None,\n",
       " None,\n",
       " None,\n",
       " None,\n",
       " None,\n",
       " None,\n",
       " None,\n",
       " None,\n",
       " None,\n",
       " None,\n",
       " None,\n",
       " None,\n",
       " None,\n",
       " None,\n",
       " None,\n",
       " None,\n",
       " None,\n",
       " None,\n",
       " None,\n",
       " None,\n",
       " None,\n",
       " None,\n",
       " None,\n",
       " None,\n",
       " None,\n",
       " None,\n",
       " None,\n",
       " None,\n",
       " None,\n",
       " None,\n",
       " None,\n",
       " None,\n",
       " None,\n",
       " None,\n",
       " None,\n",
       " None,\n",
       " None,\n",
       " None,\n",
       " None,\n",
       " None,\n",
       " None,\n",
       " None,\n",
       " None]"
      ]
     },
     "execution_count": 60,
     "metadata": {},
     "output_type": "execute_result"
    }
   ],
   "source": [
    "[cbs(pos, week) for pos in pages for week in weeks]"
   ]
  },
  {
   "cell_type": "code",
   "execution_count": 52,
   "metadata": {},
   "outputs": [
    {
     "name": "stdout",
     "output_type": "stream",
     "text": [
      "Failed: QB 17\n",
      "Failed: WR 17\n",
      "Failed: RB 17\n",
      "Failed: TE 17\n"
     ]
    },
    {
     "data": {
      "text/plain": [
       "[None, None, None, None]"
      ]
     },
     "execution_count": 52,
     "metadata": {},
     "output_type": "execute_result"
    }
   ],
   "source": [
    "[cbs(pos, week) for pos in pages for week in [17]]"
   ]
  },
  {
   "cell_type": "code",
   "execution_count": 57,
   "metadata": {
    "collapsed": true
   },
   "outputs": [],
   "source": [
    "os.chdir('..')"
   ]
  },
  {
   "cell_type": "code",
   "execution_count": 58,
   "metadata": {},
   "outputs": [
    {
     "name": "stdout",
     "output_type": "stream",
     "text": [
      "('writing: ', 'yahoo_QB_week1.csv')\n"
     ]
    }
   ],
   "source": [
    "cbs('QB', 1)"
   ]
  },
  {
   "cell_type": "code",
   "execution_count": null,
   "metadata": {},
   "outputs": [],
   "source": []
  }
 ],
 "metadata": {
  "kernelspec": {
   "display_name": "Python 2",
   "language": "python",
   "name": "python2"
  },
  "language_info": {
   "codemirror_mode": {
    "name": "ipython",
    "version": 2
   },
   "file_extension": ".py",
   "mimetype": "text/x-python",
   "name": "python",
   "nbconvert_exporter": "python",
   "pygments_lexer": "ipython2",
   "version": "2.7.13"
  }
 },
 "nbformat": 4,
 "nbformat_minor": 2
}
