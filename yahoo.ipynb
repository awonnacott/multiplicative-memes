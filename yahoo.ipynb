{
 "cells": [
  {
   "cell_type": "code",
   "execution_count": null,
   "metadata": {
    "collapsed": true
   },
   "outputs": [],
   "source": [
    "from bs4 import BeautifulSoup\n",
    "import requests\n",
    "import csv\n",
    "import os\n",
    "from selenium import webdriver\n",
    "from selenium.webdriver.common.keys import Keys"
   ]
  },
  {
   "cell_type": "code",
   "execution_count": null,
   "metadata": {
    "collapsed": true
   },
   "outputs": [],
   "source": [
    "positions = {\n",
    "    'QB': 0,\n",
    "    'RB': 2,\n",
    "    'WR': 4,\n",
    "    'TE': 6,\n",
    "    'DST': 16,\n",
    "    'K': 17,\n",
    "    'FLEX': 23\n",
    "}\n",
    "pages = {\n",
    "    'QB': 3,\n",
    "    'RB': 6,\n",
    "    'WR': 8,\n",
    "    'TE': 4,\n",
    "    'DST': 1,\n",
    "    'K': 2,\n",
    "    'FLEX': 18,\n",
    "}\n",
    "weeks = range(1, 22)"
   ]
  },
  {
   "cell_type": "code",
   "execution_count": null,
   "metadata": {
    "collapsed": true
   },
   "outputs": [],
   "source": [
    "def cbs(pos, week):\n",
    "    url = 'https://games.espn.com/ffl/leaders?&scoringPeriodId={week}&seasonId=2017&slotCategoryId={pos}&startIndex={i}'.format(pos=positions[pos], week=week, i=\"{i}\")\n",
    "    try:\n",
    "        contents = requests.get(url.format(i=0)).content\n",
    "        soup = BeautifulSoup(contents, \"html.parser\")\n",
    "        rows = soup.find('table').find_all('tr')\n",
    "        header = [td.text.split(',')[0].replace(u'\\xa0', u'') for td in rows[2]]\n",
    "        data = []\n",
    "        for i in range(pages[pos]):\n",
    "            contents = requests.get(url.format(i=50*i)).content\n",
    "            soup = BeautifulSoup(contents, \"html.parser\")\n",
    "            rows = soup.find('table').find_all('tr')\n",
    "            data += [[td.text.split(',')[0].split('D/ST')[0] for td in row] for row in rows[3:]]\n",
    "    except AttributeError:\n",
    "        print(\"Failed: \" + pos + \" \" + str(week))\n",
    "        return\n",
    "    filename = 'yahoo_{pos}_week{week}.csv'.format(pos=pos, week=week)\n",
    "    with open(filename, 'w') as f:\n",
    "        print('writing: ', filename)\n",
    "        writer = csv.writer(f)\n",
    "        try:\n",
    "            writer.writerow(header)\n",
    "            writer.writerows(data)\n",
    "        except UnicodeEncodeError:\n",
    "            print(\"Failed: \" + pos + \" \" + str(week))\n",
    "            print(header)\n",
    "            print(data)\n",
    "            return"
   ]
  },
  {
   "cell_type": "code",
   "execution_count": null,
   "metadata": {
    "collapsed": true
   },
   "outputs": [],
   "source": [
    "url = 'https://football.fantasysports.yahoo.com/f1/731507/players?status=A&pos=O&cut_type=9&stat1=S_PW_12&myteam=0&sort=AR&sdir=1&count=0'"
   ]
  },
  {
   "cell_type": "code",
   "execution_count": null,
   "metadata": {
    "collapsed": true
   },
   "outputs": [],
   "source": [
    "driver = webdriver.Firefox()\n",
    "driver.get(url)"
   ]
  },
  {
   "cell_type": "code",
   "execution_count": null,
   "metadata": {},
   "outputs": [],
   "source": [
    "elem = driver.find_element_by_id(\"login-username\")\n",
    "elem.clear()\n",
    "elem.send_keys(\"weinky\")\n",
    "elem.send_keys(Keys.RETURN)"
   ]
  },
  {
   "cell_type": "code",
   "execution_count": null,
   "metadata": {},
   "outputs": [],
   "source": [
    "# Manually enter the password in the password box and hit return\n",
    "# or fill the password in for \"\" here and run this cell\n",
    "elem = driver.find_element_by_id(\"login-passwd\")\n",
    "elem.clear()\n",
    "elem.send_keys(\"\")\n",
    "elem.send_keys(Keys.RETURN)"
   ]
  },
  {
   "cell_type": "code",
   "execution_count": null,
   "metadata": {},
   "outputs": [],
   "source": [
    "driver.get(url)"
   ]
  },
  {
   "cell_type": "code",
   "execution_count": null,
   "metadata": {},
   "outputs": [],
   "source": [
    "elem = driver.find_element_by_class_name(\"Table\")"
   ]
  },
  {
   "cell_type": "code",
   "execution_count": null,
   "metadata": {},
   "outputs": [],
   "source": [
    "soup = BeautifulSoup(elem.get_attribute(\"innerHTML\"), \"html.parser\")"
   ]
  },
  {
   "cell_type": "code",
   "execution_count": null,
   "metadata": {},
   "outputs": [],
   "source": [
    "header = [th.text for th in soup.find('thead').find_all('tr')[1].find_all('th')]"
   ]
  },
  {
   "cell_type": "code",
   "execution_count": null,
   "metadata": {},
   "outputs": [],
   "source": [
    "data = [[td.text for td in row.find_all('td')] for row in soup.find_all('tr') if len(row.find_all('td')) == len(header)]"
   ]
  },
  {
   "cell_type": "code",
   "execution_count": null,
   "metadata": {},
   "outputs": [],
   "source": [
    "['FN', 'LN'] + header[3:-1]"
   ]
  },
  {
   "cell_type": "code",
   "execution_count": null,
   "metadata": {},
   "outputs": [],
   "source": [
    "[row[1].split('\\n')[2].split(' ')[:2] + row[3:-1] for row in data]"
   ]
  },
  {
   "cell_type": "code",
   "execution_count": null,
   "metadata": {
    "collapsed": true
   },
   "outputs": [],
   "source": [
    "os.chdir('yahoo')"
   ]
  },
  {
   "cell_type": "code",
   "execution_count": null,
   "metadata": {},
   "outputs": [],
   "source": [
    "[cbs(pos, week) for pos in positions for week in weeks]"
   ]
  },
  {
   "cell_type": "code",
   "execution_count": null,
   "metadata": {
    "collapsed": true
   },
   "outputs": [],
   "source": [
    "os.chdir('..')"
   ]
  }
 ],
 "metadata": {
  "kernelspec": {
   "display_name": "Python 3",
   "language": "python",
   "name": "python3"
  },
  "language_info": {
   "codemirror_mode": {
    "name": "ipython",
    "version": 3
   },
   "file_extension": ".py",
   "mimetype": "text/x-python",
   "name": "python",
   "nbconvert_exporter": "python",
   "pygments_lexer": "ipython3",
   "version": "3.6.4"
  }
 },
 "nbformat": 4,
 "nbformat_minor": 2
}
