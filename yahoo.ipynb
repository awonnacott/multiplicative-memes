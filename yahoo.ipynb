{
 "cells": [
  {
   "cell_type": "code",
   "execution_count": null,
   "metadata": {
    "collapsed": true
   },
   "outputs": [],
   "source": [
    "from bs4 import BeautifulSoup\n",
    "import csv\n",
    "import time\n",
    "import os\n",
    "from selenium import webdriver\n",
    "from selenium.webdriver.common.keys import Keys"
   ]
  },
  {
   "cell_type": "code",
   "execution_count": null,
   "metadata": {
    "collapsed": true
   },
   "outputs": [],
   "source": [
    "username = \"weinky\"\n",
    "password = \"\"\n",
    "pages = {\n",
    "    'QB': 5,\n",
    "    'RB': 11,\n",
    "    'WR': 16,\n",
    "    'TE': 10,\n",
    "}\n",
    "weeks = range(1, 18)"
   ]
  },
  {
   "cell_type": "code",
   "execution_count": null,
   "metadata": {
    "collapsed": true
   },
   "outputs": [],
   "source": [
    "def cbs(pos, week):\n",
    "    url = 'https://football.fantasysports.yahoo.com/f1/731507/players?&sort=AR&sdir=1&status=ALL&pos={pos}&stat1=S_PW_{week}&jsenabled=1&count={i}'.format(pos=pos, week=week, i=\"{i}\")\n",
    "    try:\n",
    "        driver.get(url.format(i=0))\n",
    "        time.sleep(3)\n",
    "        elem = driver.find_element_by_class_name(\"Table\")\n",
    "        soup = BeautifulSoup(elem.get_attribute(\"innerHTML\"), \"html.parser\")\n",
    "        pheader = soup.find('thead').find_all('tr')[1].find_all('th')\n",
    "        header = [th.text.strip(u'\\ue002') for th in pheader]\n",
    "        header = ['FN', 'LN'] + header[3:-1]\n",
    "        data = []\n",
    "        for i in range(pages[pos]):\n",
    "            driver.get(url.format(i=25 * i))\n",
    "            time.sleep(3)\n",
    "            elem = driver.find_element_by_class_name(\"Table\")\n",
    "            soup = BeautifulSoup(elem.get_attribute(\"innerHTML\"), \"html.parser\")\n",
    "            pdata = [[td.text for td in row.find_all('td')] for row in soup.find_all('tr') if len(row.find_all('td')) == len(pheader)]\n",
    "            data += [row[1].split('\\n')[2].split(' ')[:2] + row[3:-1] for row in pdata]\n",
    "    except AttributeError:\n",
    "        print(\"Failed: \" + pos + \" \" + str(week))\n",
    "        return\n",
    "    filename = 'yahoo_{pos}_week{week}.csv'.format(pos=pos, week=week)\n",
    "    with open(filename, 'w') as f:\n",
    "        print('writing: ', filename)\n",
    "        writer = csv.writer(f)\n",
    "        try:\n",
    "            writer.writerow(header)\n",
    "            writer.writerows(data)\n",
    "        except UnicodeEncodeError:\n",
    "            print(\"Failed: \" + pos + \" \" + str(week))\n",
    "            print(header)\n",
    "            print(data)\n",
    "            return"
   ]
  },
  {
   "cell_type": "code",
   "execution_count": null,
   "metadata": {
    "collapsed": true
   },
   "outputs": [],
   "source": [
    "url = 'https://football.fantasysports.yahoo.com/f1/731507/players'"
   ]
  },
  {
   "cell_type": "code",
   "execution_count": null,
   "metadata": {
    "collapsed": true
   },
   "outputs": [],
   "source": [
    "driver = webdriver.Firefox()\n",
    "driver.get(url)"
   ]
  },
  {
   "cell_type": "code",
   "execution_count": null,
   "metadata": {
    "collapsed": true
   },
   "outputs": [],
   "source": [
    "elem = driver.find_element_by_id(\"login-username\")\n",
    "elem.clear()\n",
    "elem.send_keys(username)\n",
    "elem.send_keys(Keys.RETURN)\n",
    "time.sleep(2)\n",
    "# Manually enter the password in the password box and hit return\n",
    "# or fill the password in for \"\" here and run this cell\n",
    "elem = driver.find_element_by_id(\"login-passwd\")\n",
    "elem.clear()\n",
    "elem.send_keys(password)\n",
    "elem.send_keys(Keys.RETURN)"
   ]
  },
  {
   "cell_type": "code",
   "execution_count": null,
   "metadata": {
    "collapsed": true
   },
   "outputs": [],
   "source": [
    "os.chdir('yahoo')"
   ]
  },
  {
   "cell_type": "code",
   "execution_count": null,
   "metadata": {
    "collapsed": true
   },
   "outputs": [],
   "source": [
    "[cbs(pos, week) for pos in pages for week in weeks]"
   ]
  },
  {
   "cell_type": "code",
   "execution_count": null,
   "metadata": {
    "collapsed": true
   },
   "outputs": [],
   "source": [
    "os.chdir('..')"
   ]
  },
  {
   "cell_type": "code",
   "execution_count": null,
   "metadata": {
    "collapsed": true
   },
   "outputs": [],
   "source": []
  }
 ],
 "metadata": {
  "kernelspec": {
   "display_name": "Python 3",
   "language": "python",
   "name": "python3"
  },
  "language_info": {
   "codemirror_mode": {
    "name": "ipython",
    "version": 3
   },
   "file_extension": ".py",
   "mimetype": "text/x-python",
   "name": "python",
   "nbconvert_exporter": "python",
   "pygments_lexer": "ipython3",
   "version": "3.6.4"
  }
 },
 "nbformat": 4,
 "nbformat_minor": 2
}
